{
 "cells": [
  {
   "cell_type": "markdown",
   "id": "54843e58",
   "metadata": {},
   "source": [
    "# Oracle 23ai를 Vector Store로 사용하여 Python/LangChain에서 RAG 구성하기"
   ]
  },
  {
   "cell_type": "markdown",
   "id": "3326294a",
   "metadata": {},
   "source": [
    "## Step 1: Indexing"
   ]
  },
  {
   "cell_type": "markdown",
   "id": "bd510903",
   "metadata": {},
   "source": [
    "### Step 1.1: Loading documents"
   ]
  },
  {
   "cell_type": "code",
   "execution_count": null,
   "id": "e7475207",
   "metadata": {},
   "outputs": [],
   "source": [
    "import bs4\n",
    "from langchain_community.document_loaders import WebBaseLoader\n",
    "\n",
    "# Only keep post title, headers, and content from the full HTML.\n",
    "bs4_strainer = bs4.SoupStrainer(class_=(\"post-title\", \"post-header\", \"post-content\"))\n",
    "loader = WebBaseLoader(\n",
    "    web_paths=(\"https://lilianweng.github.io/posts/2023-06-23-agent/\",),\n",
    "    bs_kwargs={\"parse_only\": bs4_strainer},\n",
    ")\n",
    "docs = loader.load()\n",
    "\n",
    "assert len(docs) == 1\n",
    "print(f\"Total characters: {len(docs[0].page_content)}\")"
   ]
  },
  {
   "cell_type": "code",
   "execution_count": null,
   "id": "da783cf3",
   "metadata": {},
   "outputs": [],
   "source": [
    "print(docs[0].page_content[:500])"
   ]
  },
  {
   "cell_type": "markdown",
   "id": "cbe8f53a",
   "metadata": {},
   "source": [
    "### Step 1.2: Splitting documents"
   ]
  },
  {
   "cell_type": "code",
   "execution_count": null,
   "id": "30ccdcff",
   "metadata": {},
   "outputs": [],
   "source": [
    "from langchain_text_splitters import RecursiveCharacterTextSplitter\n",
    "\n",
    "text_splitter = RecursiveCharacterTextSplitter(\n",
    "    chunk_size=1000,  # chunk size (characters)\n",
    "    chunk_overlap=200,  # chunk overlap (characters)\n",
    "    add_start_index=True,  # track index in original document\n",
    ")\n",
    "all_splits = text_splitter.split_documents(docs)\n",
    "\n",
    "print(f\"Split blog post into {len(all_splits)} sub-documents.\")"
   ]
  },
  {
   "cell_type": "markdown",
   "id": "f0c0077f",
   "metadata": {},
   "source": [
    "### Step 1.3: Storing documents"
   ]
  },
  {
   "cell_type": "markdown",
   "id": "9c917128",
   "metadata": {},
   "source": [
    "#### Text embedding\n",
    "\n",
    "LangChain 문서 다음 링크에서 여러 embedding 모델에 따른 예시를 확인할 수 있습니다.\n",
    "- https://python.langchain.com/docs/how_to/embed_text/#setup\n",
    "\n",
    "여기서는 로컬 테스트를 위해 Ollama를 사용합니다."
   ]
  },
  {
   "cell_type": "code",
   "execution_count": null,
   "id": "33a00d6b",
   "metadata": {},
   "outputs": [],
   "source": [
    "from langchain_ollama import OllamaEmbeddings\n",
    "\n",
    "embeddings_model = OllamaEmbeddings(model=\"paraphrase-multilingual\")"
   ]
  },
  {
   "cell_type": "markdown",
   "id": "69559090",
   "metadata": {},
   "source": [
    "#### VectorStore: OracleVS vector store\n",
    "\n",
    "LangChain 문서 다음 링크에서 여러 vector store에 따른 예시를 확인할 수 있습니다.\n",
    "- https://python.langchain.com/docs/how_to/embed_text/#setup\n",
    "- https://python.langchain.com/docs/integrations/vectorstores/\n",
    "\n",
    "여기서는 Oracle Database 23ai를 vector store로 사용합니다.\n",
    "- https://python.langchain.com/docs/integrations/vectorstores/oracle/"
   ]
  },
  {
   "cell_type": "code",
   "execution_count": null,
   "id": "d008949e",
   "metadata": {},
   "outputs": [],
   "source": [
    "import oracledb\n",
    "\n",
    "username = \"vector\"\n",
    "password = \"vector\"\n",
    "dsn = \"localhost:1521/FREEPDB1\"\n",
    "\n",
    "try:\n",
    "    connection = oracledb.connect(user=username, password=password, dsn=dsn)\n",
    "\n",
    "    cursor = connection.cursor()\n",
    "    cursor.callproc(\"DBMS_APPLICATION_INFO.SET_CLIENT_INFO\", (\"oracle-dev-day/langchain-lab\",))\n",
    "\n",
    "    print(\"Connection successful!\")\n",
    "except Exception as e:\n",
    "    print(\"Connection failed!\")"
   ]
  },
  {
   "cell_type": "code",
   "execution_count": null,
   "id": "0a5a5508",
   "metadata": {},
   "outputs": [],
   "source": [
    "from langchain_community.vectorstores import oraclevs\n",
    "from langchain_community.vectorstores.oraclevs import OracleVS\n",
    "from langchain_community.vectorstores.utils import DistanceStrategy\n",
    "\n",
    "vector_store = OracleVS(\n",
    "    client=connection,        \n",
    "    table_name=\"DOCUMENTS_COSINE\",\n",
    "    embedding_function=embeddings_model,\n",
    "    distance_strategy=DistanceStrategy.COSINE,\n",
    ")"
   ]
  },
  {
   "cell_type": "markdown",
   "id": "c3eaa0c8",
   "metadata": {},
   "source": [
    "**SQL Worksheet** 또는 **SQLcl**로 DB에 접속하여 다음을 실행합니다.\n",
    "\n",
    "```sql\n",
    "desc DOCUMENTS_COSINE;\n",
    "```"
   ]
  },
  {
   "cell_type": "markdown",
   "id": "af4c46d5",
   "metadata": {},
   "source": [
    "#### Storing documents"
   ]
  },
  {
   "cell_type": "code",
   "execution_count": null,
   "id": "ddf29259",
   "metadata": {},
   "outputs": [],
   "source": [
    "document_ids = vector_store.add_documents(documents=all_splits)\n",
    "\n",
    "print(document_ids[:3])"
   ]
  },
  {
   "cell_type": "markdown",
   "id": "f80429e8",
   "metadata": {},
   "source": [
    "**SQL Worksheet** 또는 **SQLcl**로 DB에 접속하여 다음을 실행합니다.\n",
    "\n",
    "```sql\n",
    "SELECT * FROM DOCUMENTS_COSINE;\n",
    "```"
   ]
  },
  {
   "cell_type": "markdown",
   "id": "e7d3081a",
   "metadata": {},
   "source": [
    "## Step 2: Retrieval and Generation"
   ]
  },
  {
   "cell_type": "markdown",
   "id": "3335d242",
   "metadata": {},
   "source": [
    "### Step 2.1: Retrieve Test"
   ]
  },
  {
   "cell_type": "code",
   "execution_count": null,
   "id": "f2f1a719",
   "metadata": {},
   "outputs": [],
   "source": [
    "user_question = \"What is Task Decomposition?\""
   ]
  },
  {
   "cell_type": "code",
   "execution_count": null,
   "id": "fffdbcaf",
   "metadata": {},
   "outputs": [],
   "source": [
    "retriever = vector_store.as_retriever() "
   ]
  },
  {
   "cell_type": "code",
   "execution_count": null,
   "id": "3a9b4e00",
   "metadata": {},
   "outputs": [],
   "source": [
    "retrieved_docs = retriever.invoke(user_question)\n",
    "#print(len(retrieved_docs))\n",
    "#print(retrieved_docs)\n",
    "\n",
    "import json\n",
    "\n",
    "for index, doc in enumerate(retrieved_docs):\n",
    "    print(f\"#### index: {index}\")\n",
    "    print(f\"     metadata: {doc.metadata}\")\n",
    "    print(f\"     page_content: {doc.page_content}\")"
   ]
  },
  {
   "cell_type": "markdown",
   "id": "13f7fc3a",
   "metadata": {},
   "source": [
    "### Step 2.1-1: Retrieve with Score"
   ]
  },
  {
   "cell_type": "code",
   "execution_count": null,
   "id": "72bd424b",
   "metadata": {},
   "outputs": [],
   "source": [
    "from langchain_core.documents import Document\n",
    "from langchain_core.runnables import chain\n",
    "from typing import List\n",
    "\n",
    "@chain\n",
    "def retriever(query: str) -> List[Document]:\n",
    "    docs, scores = zip(*vector_store.similarity_search_with_score(query))\n",
    "    for doc, score in zip(docs, scores):\n",
    "        doc.metadata[\"score\"] = score\n",
    "\n",
    "    return docs"
   ]
  },
  {
   "cell_type": "code",
   "execution_count": null,
   "id": "94a1e017",
   "metadata": {},
   "outputs": [],
   "source": [
    "retrieved_docs = retriever.invoke(user_question)\n",
    "#print(len(retrieved_docs))\n",
    "#print(retrieved_docs)\n",
    "\n",
    "import json\n",
    "\n",
    "for index, doc in enumerate(retrieved_docs):\n",
    "    print(f\"#### index: {index}\")\n",
    "    print(f\"     metadata: {doc.metadata}\")\n",
    "    print(f\"     page_content: {doc.page_content}\")\n",
    "    print(f\"     score: {doc.metadata['score']}\")"
   ]
  },
  {
   "cell_type": "markdown",
   "id": "7df6246a",
   "metadata": {},
   "source": [
    "### Step 2.2: Prompt"
   ]
  },
  {
   "cell_type": "code",
   "execution_count": null,
   "id": "9cf166f6",
   "metadata": {},
   "outputs": [],
   "source": [
    "from langchain_core.prompts import PromptTemplate\n",
    "\n",
    "prompt = PromptTemplate.from_template(\n",
    "    \"\"\"You are an assistant for question-answering tasks. Use the following pieces of retrieved context to answer the question.\n",
    "If you don't know the answer, just say that you don't know. \n",
    "Use three sentences maximum and keep the answer concise.\n",
    "Respond in Korean.\n",
    "\n",
    "Question: {question} \n",
    "Context: {context} \n",
    "Answer:\n",
    "\"\"\")"
   ]
  },
  {
   "cell_type": "markdown",
   "id": "0ba498a8",
   "metadata": {},
   "source": [
    "### Step 2.3: LLM\n",
    "\n",
    "LangChain 문서 다음 링크에서 여러 chat model에 따른 예시를 확인할 수 있습니다.\n",
    "- https://python.langchain.com/docs/integrations/chat/\n",
    "\n",
    "여기서는 로컬 테스트를 위해 Ollama를 사용합니다.\n",
    "- https://python.langchain.com/docs/integrations/chat/ollama/"
   ]
  },
  {
   "cell_type": "code",
   "execution_count": null,
   "id": "eaf5e2eb",
   "metadata": {},
   "outputs": [],
   "source": [
    "from langchain_ollama import ChatOllama\n",
    "\n",
    "llm = ChatOllama(\n",
    "    model=\"llama3.1\",\n",
    "    temperature=0,\n",
    "    # other params...\n",
    ")"
   ]
  },
  {
   "cell_type": "markdown",
   "id": "44464440",
   "metadata": {},
   "source": [
    "### Step 2.4: Answer\n",
    "AMD 2OCPU - 3m 56.2s / AMD 1 OCPU - 6m 23s"
   ]
  },
  {
   "cell_type": "code",
   "execution_count": null,
   "id": "50f70142",
   "metadata": {},
   "outputs": [],
   "source": [
    "from langchain_core.output_parsers import StrOutputParser\n",
    "from langchain_core.runnables import RunnablePassthrough\n",
    "\n",
    "chain = (\n",
    "    {\"context\": retriever, \"question\": RunnablePassthrough()}\n",
    "    | prompt\n",
    "    | llm\n",
    "    | StrOutputParser()\n",
    ")\n",
    "\n",
    "question = user_question\n",
    "response = chain.invoke(question)\n",
    "\n",
    "print(f\"# user_question: {user_question}\")\n",
    "print(f\"# response: {response}\")"
   ]
  },
  {
   "cell_type": "markdown",
   "id": "eb569396",
   "metadata": {},
   "source": [
    "## Step 3: OracleVS"
   ]
  },
  {
   "cell_type": "markdown",
   "id": "2e444ec3",
   "metadata": {},
   "source": [
    "**SQL Worksheet** 또는 **SQLcl**로 DB에 접속하여 다음을 실행합니다.\n",
    "앞 코드 실행으로 인해 DB에서 실행한 SQL 쿼리를 확인하는 질의입니다.\n",
    "\n",
    "```sql\n",
    "SELECT sql_id, parsing_schema_name, sql_text\n",
    "FROM v$sql\n",
    "WHERE parsing_schema_name = 'VECTOR' and module like '%python'\n",
    "ORDER BY last_active_time DESC;\n",
    "````"
   ]
  },
  {
   "cell_type": "markdown",
   "id": "e39b9eb0",
   "metadata": {},
   "source": [
    "실행한 SQL 쿼리에 대한 실행 계획을 확인합니다.\n",
    "\n",
    "- 예시\n",
    "```sql\n",
    "EXPLAIN PLAN FOR\n",
    "    SELECT id, text, metadata, vector_distance(embedding, :embedding, COSINE) as distance\n",
    "      FROM DOCUMENTS_COSINE\n",
    "  ORDER BY distance\n",
    "     FETCH APPROX FIRST 4 ROWS ONLY;\n",
    "\n",
    "SELECT * FROM TABLE(DBMS_XPLAN.DISPLAY(format => 'ALL'));\n",
    "```\n",
    "\n",
    "생성된 테이블에 INDEX가 없으므로, FULL Search하는 것을 볼 수 있습니다."
   ]
  },
  {
   "cell_type": "markdown",
   "id": "94791d45",
   "metadata": {},
   "source": [
    "### Step 3.1: Index"
   ]
  },
  {
   "cell_type": "markdown",
   "id": "5c37dccb",
   "metadata": {},
   "source": [
    "#### Step 3.1.1: HNSW Index"
   ]
  },
  {
   "cell_type": "code",
   "execution_count": null,
   "id": "e4af5cd4",
   "metadata": {},
   "outputs": [],
   "source": [
    "oraclevs.create_index(\n",
    "    connection,\n",
    "    vector_store,\n",
    "    params={\"idx_name\": \"documents_cosine_hnsw_idx\", \"idx_type\": \"HNSW\"},\n",
    ")"
   ]
  },
  {
   "cell_type": "markdown",
   "id": "6085dc77",
   "metadata": {},
   "source": [
    "**SQL Worksheet** 또는 **SQLcl**로 DB에 접속하여 다음을 실행합니다.\n",
    "\n",
    "```sql\n",
    "SELECT * FROM ALL_INDEXES WHERE table_name=UPPER('DOCUMENTS_COSINE');\n",
    "```\n",
    "\n",
    "인덱스가 생성된 것을 확인합니다."
   ]
  },
  {
   "cell_type": "markdown",
   "id": "9d75a6ad",
   "metadata": {},
   "source": [
    "Step 2.4과 동일한 내용으로 LLM에 다시 요청합니다."
   ]
  },
  {
   "cell_type": "code",
   "execution_count": null,
   "id": "9870a081",
   "metadata": {},
   "outputs": [],
   "source": [
    "response = chain.invoke(question)\n",
    "\n",
    "print(f\"# user_question: {user_question}\")\n",
    "print(f\"# response: {response}\")"
   ]
  },
  {
   "cell_type": "markdown",
   "id": "fef2fe84",
   "metadata": {},
   "source": [
    "**SQL Worksheet** 또는 **SQLcl**로 DB에 접속하여 다음을 실행합니다.\n",
    "실행 계획이 달라졌는 지 확인합니다.\n",
    "\n",
    "- 예시\n",
    "```sql\n",
    "EXPLAIN PLAN FOR\n",
    "    SELECT id, text, metadata, vector_distance(embedding, :embedding, COSINE) as distance\n",
    "      FROM DOCUMENTS_COSINE\n",
    "  ORDER BY distance\n",
    "     FETCH APPROX FIRST 4 ROWS ONLY;\n",
    "\n",
    "SELECT * FROM TABLE(DBMS_XPLAN.DISPLAY(format => 'ALL'));\n",
    "```"
   ]
  },
  {
   "cell_type": "markdown",
   "id": "b84c751e",
   "metadata": {},
   "source": [
    "#### Step 3.1.2: IVF Index"
   ]
  },
  {
   "cell_type": "code",
   "execution_count": null,
   "id": "838dcd6e",
   "metadata": {},
   "outputs": [],
   "source": [
    "oraclevs.drop_index_if_exists(\n",
    "    connection,\n",
    "    index_name=\"documents_cosine_hnsw_idx\"   \n",
    ")\n",
    "\n",
    "oraclevs.create_index(\n",
    "    connection,\n",
    "    vector_store,\n",
    "    params={\"idx_name\": \"documents_cosine_ivf_idx\", \"idx_type\": \"IVF\"},\n",
    ")"
   ]
  },
  {
   "cell_type": "markdown",
   "id": "25a0e400",
   "metadata": {},
   "source": [
    "### Step 3.2: Filtering"
   ]
  },
  {
   "cell_type": "markdown",
   "id": "1d09ce53",
   "metadata": {},
   "source": [
    "#### Step 3.2.1: Filtering - filter"
   ]
  },
  {
   "cell_type": "markdown",
   "id": "d50f6aac",
   "metadata": {},
   "source": [
    "필터링 없이 유사도 검색은 다음과 같이 수행합니다."
   ]
  },
  {
   "cell_type": "code",
   "execution_count": null,
   "id": "7a227dc4",
   "metadata": {},
   "outputs": [],
   "source": [
    "# Similarity search without a filter\n",
    "print(\"\\nSimilarity search results without filter:\")\n",
    "\n",
    "retrieved_docs = vector_store.similarity_search(question, 2)\n",
    "\n",
    "for index, doc in enumerate(retrieved_docs):\n",
    "    print(f\"#### index: {index}\")\n",
    "    print(f\"     metadata: {doc.metadata}\")\n",
    "    print(f\"     page_content: {doc.page_content}\")"
   ]
  },
  {
   "cell_type": "markdown",
   "id": "851692a6",
   "metadata": {},
   "source": [
    "metadata 칼럼 기준으로 아래와 같이 필터링 할 수 있습니다."
   ]
  },
  {
   "cell_type": "code",
   "execution_count": null,
   "id": "320e10dd",
   "metadata": {},
   "outputs": [],
   "source": [
    "# Similarity search with a filter\n",
    "print(\"\\nSimilarity search results with filter:\")\n",
    "\n",
    "filter_criteria = {\"source\": [\"https://lilianweng.github.io/posts/2023-06-23-agent/\"]};\n",
    "\n",
    "retrieved_docs = vector_store.similarity_search(question, 3, filter=filter_criteria);\n",
    "\n",
    "for index, doc in enumerate(retrieved_docs):\n",
    "    print(f\"#### index: {index}\")\n",
    "    print(f\"     metadata: {doc.metadata}\")\n",
    "    print(f\"     page_content: {doc.page_content}\")"
   ]
  },
  {
   "cell_type": "markdown",
   "id": "341f9d96",
   "metadata": {},
   "source": [
    "**SQL Worksheet** 또는 **SQLcl**로 DB에 접속하여 다음을 실행합니다.\n",
    "\n",
    "실행된 쿼리를 확인합니다."
   ]
  },
  {
   "cell_type": "markdown",
   "id": "86e81c78",
   "metadata": {},
   "source": [
    "```sql\n",
    "SELECT sql_id, parsing_schema_name, sql_text\n",
    "FROM v$sql\n",
    "WHERE parsing_schema_name = 'VECTOR' and module like '%python' and sql_text like '%FROM DOCUMENTS_COSINE%'\n",
    "ORDER BY last_active_time DESC;\n",
    "```"
   ]
  },
  {
   "cell_type": "markdown",
   "id": "def90e28",
   "metadata": {},
   "source": [
    "실행된 쿼리를 확인해 보면 필터링이 Where 절 조건에 없는 것을 볼 수 있습니다."
   ]
  },
  {
   "cell_type": "markdown",
   "id": "206d49c8",
   "metadata": {},
   "source": [
    "```sql\n",
    "SELECT id, text, metadata, vector_distance(embedding, :embedding, COSINE) as distance\n",
    "FROM \"DOCUMENTS_COSINE\"\n",
    "ORDER BY distance\n",
    "FETCH APPROX FIRST 3 ROWS ONLY\n",
    "```"
   ]
  },
  {
   "cell_type": "markdown",
   "id": "fbe7d651",
   "metadata": {},
   "source": [
    "OracleVS 소스 코드를 보면, similarity_search() 함수가 최종적으로 호출되는 similarity_search_by_vector_with_relevance_scores() 함수의 구현을 보면,\n",
    "SQL Query로 조회후, 결과 results의 metadata를 이용해 코드내에서 필터링하는 것을 볼 수 있습니다.\n",
    "SQL Query의 where 조건에서 metadata를 필터링 하는 것이 아님.\n",
    "\n",
    "- https://github.com/langchain-ai/langchain-community/blob/main/libs/community/langchain_community/vectorstores/oraclevs.py#L750-L774\n",
    "\n",
    "```python\n",
    "        query = f\"\"\"\n",
    "            SELECT id,\n",
    "              text,\n",
    "              metadata,\n",
    "              vector_distance(embedding, :embedding,\n",
    "              {_get_distance_function(self.distance_strategy)}) as distance\n",
    "            FROM {self.table_name}\n",
    "            ORDER BY distance\n",
    "            FETCH APPROX FIRST {k} ROWS ONLY\n",
    "        \"\"\"\n",
    "```\n"
   ]
  },
  {
   "cell_type": "markdown",
   "id": "8cdbb0b1",
   "metadata": {},
   "source": [
    "#### Step 3.2.2: Filtering - filter : score 함께 가져오기"
   ]
  },
  {
   "cell_type": "code",
   "execution_count": null,
   "id": "2205ece8",
   "metadata": {},
   "outputs": [],
   "source": [
    "# Similarity search with relevance score\n",
    "print(\"\\nSimilarity search with relevance score:\")\n",
    "\n",
    "filter_criteria = {\"source\": [\"https://lilianweng.github.io/posts/2023-06-23-agent/\"]};\n",
    "\n",
    "retrieved_docs = vector_store.similarity_search_with_score(question, 2);\n",
    "\n",
    "for index, doc_with_score in enumerate(retrieved_docs):\n",
    "    print(f\"#### index: {index}\")\n",
    "    print(type(doc_with_score))\n",
    "    doc = doc_with_score[0]\n",
    "    score = doc_with_score[1]\n",
    "    print(f\"     metadata: {doc.metadata}\")\n",
    "    print(f\"     page_content: {doc.page_content}\")\n",
    "    print(f\"     score: {score}\")\n"
   ]
  },
  {
   "cell_type": "markdown",
   "id": "4d5e8e13",
   "metadata": {},
   "source": [
    "#### Step 3.2.3: Filtering - db_filter"
   ]
  },
  {
   "cell_type": "markdown",
   "id": "35d06af4",
   "metadata": {},
   "source": [
    "langchain-community에서 langchain-oci, langchain-oracledb 대체를 준비하고 있습니다. 현재 v0.1.0에서 db_filter를 제공하는 기능이 추가되었습니다.\n",
    "\n",
    "- https://github.com/oracle/langchain-oracle\n",
    "- https://github.com/oracle/langchain-oracle/blob/main/libs/oracledb/langchain_oracledb/vectorstores/oraclevs.py#L1318-L1324"
   ]
  },
  {
   "cell_type": "code",
   "execution_count": null,
   "id": "f9bc8b4a",
   "metadata": {},
   "outputs": [],
   "source": [
    "# Similarity search with a filter\n",
    "print(\"\\nSimilarity search results with filter:\")\n",
    "\n",
    "filter_criteria = {\"source\": [\"https://lilianweng.github.io/posts/2023-06-23-agent/\"]};\n",
    "\n",
    "from typing import TypedDict\n",
    "from langchain_oracledb.vectorstores import OracleVS\n",
    "from langchain_oracledb.vectorstores.oraclevs import FilterCondition\n",
    "\n",
    "db_filter: FilterCondition = {\n",
    "    \"key\": \"source\",\n",
    "    \"oper\": \"EQ\",\n",
    "    \"value\": \"https://lilianweng.github.io/posts/2023-06-23-agent/\"\n",
    "}\n",
    "\n",
    "vector_store = OracleVS(\n",
    "    client=connection,        \n",
    "    table_name=\"DOCUMENTS_COSINE\",\n",
    "    embedding_function=embeddings_model,\n",
    "    distance_strategy=DistanceStrategy.COSINE,\n",
    ")\n",
    "\n",
    "retrieved_docs = vector_store.similarity_search(question, 5, db_filter=db_filter);\n",
    "\n",
    "for index, doc in enumerate(retrieved_docs):\n",
    "    print(f\"#### index: {index}\")\n",
    "    print(f\"     metadata: {doc.metadata}\")\n",
    "    print(f\"     page_content: {doc.page_content}\")"
   ]
  },
  {
   "cell_type": "markdown",
   "id": "53c34fd5",
   "metadata": {},
   "source": [
    "**SQL Worksheet** 또는 **SQLcl**로 DB에 접속하여 다음을 실행합니다.\n",
    "\n",
    "실행된 쿼리를 확인합니다."
   ]
  },
  {
   "cell_type": "markdown",
   "id": "b395c755",
   "metadata": {},
   "source": [
    "```sql\n",
    "SELECT sql_id, parsing_schema_name, sql_text\n",
    "FROM v$sql\n",
    "WHERE parsing_schema_name = 'VECTOR' and module like '%python' and sql_text like '%DOCUMENTS_COSINE%'\n",
    "ORDER BY last_active_time DESC;\n",
    "```"
   ]
  },
  {
   "cell_type": "markdown",
   "id": "02cdf417",
   "metadata": {},
   "source": [
    "실행된 쿼리를 확인해 보면 필터링이 **WHERE JSON_EXISTS**로 **Where 절 조건**이 추가된 것을 볼 수 있습니다."
   ]
  },
  {
   "cell_type": "markdown",
   "id": "ea5b053a",
   "metadata": {},
   "source": [
    "```sql\n",
    "SELECT id, text, metadata, vector_distance(embedding, :embedding, COSINE) as distance\n",
    "FROM \"DOCUMENTS_COSINE\"\n",
    "WHERE JSON_EXISTS(metadata, '$.source?(@ == \"https://lilianweng.github.io/posts/2023-06-23-agent/\")')\n",
    "ORDER BY distance\n",
    "FETCH APPROX FIRST 5 ROWS ONLY\n",
    "```"
   ]
  },
  {
   "cell_type": "markdown",
   "id": "ed33335f",
   "metadata": {},
   "source": [
    "JSON 타입인 metadata에 대해서 추가적인 인덱스 설정이 필요합니다.\n",
    "\n",
    "**SQL Worksheet** 또는 **SQLcl**로 DB에 접속하여 다음을 실행합니다."
   ]
  },
  {
   "cell_type": "markdown",
   "id": "38200e94",
   "metadata": {},
   "source": [
    "```sql\n",
    "CREATE SEARCH INDEX metadata_json_search_idx\n",
    "ON DOCUMENTS_COSINE (metadata)\n",
    "FOR JSON;\n",
    "```"
   ]
  },
  {
   "cell_type": "markdown",
   "id": "0571bcf9",
   "metadata": {},
   "source": [
    "인덱스 생성후 다시 확인해 보면 새로운 JSON 인덱스를 사용하는 것을 알 수 있습니다."
   ]
  },
  {
   "cell_type": "markdown",
   "id": "368c6eaa",
   "metadata": {},
   "source": [
    "```sql\n",
    "EXPLAIN PLAN FOR\n",
    "  SELECT id, text, metadata, vector_distance(embedding, :embedding, COSINE) as distance\n",
    "    FROM \"DOCUMENTS_COSINE\"\n",
    "   WHERE JSON_EXISTS(metadata, '$.source?(@ == \"https://lilianweng.github.io/posts/2023-06-23-agent/\")')\n",
    "ORDER BY distance\n",
    "   FETCH APPROX FIRST 5 ROWS ONLY;\n",
    "\n",
    "SELECT * FROM TABLE(DBMS_XPLAN.DISPLAY(format => 'ALL'));\n",
    "```"
   ]
  },
  {
   "cell_type": "markdown",
   "id": "3d530037",
   "metadata": {},
   "source": [
    "## Step 4: Existing Table with VECTOR type\n",
    "이전 내용들은 LangChain에서 문서를 읽어 분리하고, 임베딩하고 DB 테이블에 저장하는 일련의 인덱싱 작업 후에 조회하는 과정이었습니다. OracleVS 패키지 또한 LangChain 연동에 맞춰 구현된 내용으로 그에 맞게 테이블 구조가 자동으로 만들어 진 상태였습니다.\n",
    "\n",
    "여기서는 사용자가 이미 있는 테이블, 데이터에 대해 Oracle 23ai Vector Search 기능을 통해 유사도 질의를 하는 경우, LangChain에서 어떻게 사용할 까 하는 부분입니다. oracledb 패키지를 통해 Python에서 SQL 질의하고, 그 결과를 LangChain에 사용하는 langchain_core.documents.base.Document 클래스 형태로 변경하면 됩니다."
   ]
  },
  {
   "cell_type": "code",
   "execution_count": null,
   "id": "4e585c46",
   "metadata": {},
   "outputs": [],
   "source": [
    "from langchain_ollama import OllamaEmbeddings\n",
    "\n",
    "embeddings_model = OllamaEmbeddings(model=\"paraphrase-multilingual\")\n",
    "query_vector = embeddings_model.embed_query(\"다국어 메뉴판이 있는 여의도 맛집\")\n",
    "    \n",
    "#print(type(query_vector)) # <class 'list'>\n",
    "query_vector_str = str(query_vector)"
   ]
  },
  {
   "cell_type": "code",
   "execution_count": null,
   "id": "ac5bc1e0",
   "metadata": {},
   "outputs": [],
   "source": [
    "from langchain_core.documents import Document\n",
    "\n",
    "cursor = connection.cursor()    \n",
    "\n",
    "query = \"\"\"\n",
    "SELECT id, VECTOR_DISTANCE(VECTOR_DESCRIPTION, :query_vector, COSINE) AS vector_distance, business_type_registered, name, description\n",
    "FROM RSTR_INFO\n",
    "WHERE business_type_registered='한식'\n",
    "ORDER BY vector_distance\n",
    "FETCH FIRST 10 ROWS ONLY\n",
    "\"\"\"\n",
    "cursor.execute(query, {\"query_vector\": query_vector_str})\n",
    "results = cursor.fetchall()\n",
    "\n",
    "retrieved_docs = []\n",
    "\n",
    "for result in results:\n",
    "    metadata = {\n",
    "        \"id\": result[0],\n",
    "        \"business_type_registered\": result[2],\n",
    "        \"name\": result[3]\n",
    "        }\n",
    "            \n",
    "    doc = Document(\n",
    "        page_content=(\n",
    "            result[4]\n",
    "            if result[4] is not None\n",
    "            else \"\"\n",
    "        ),\n",
    "        metadata=metadata,\n",
    "    )\n",
    "\n",
    "    retrieved_docs.append(doc)\n",
    "\n",
    "for index, doc in enumerate(retrieved_docs):\n",
    "    print(f\"#### index: {index}\")\n",
    "    print(f\"     metadata: {doc.metadata}\")\n",
    "    print(f\"     page_content: {doc.page_content}\")\n",
    "\n",
    "print(\"\\n\".join([f\"{doc.metadata['name']}: {doc.page_content}\" for doc in retrieved_docs]))    \n"
   ]
  }
 ],
 "metadata": {
  "kernelspec": {
   "display_name": ".venv",
   "language": "python",
   "name": "python3"
  },
  "language_info": {
   "codemirror_mode": {
    "name": "ipython",
    "version": 3
   },
   "file_extension": ".py",
   "mimetype": "text/x-python",
   "name": "python",
   "nbconvert_exporter": "python",
   "pygments_lexer": "ipython3",
   "version": "3.11.11"
  }
 },
 "nbformat": 4,
 "nbformat_minor": 5
}
